{
 "cells": [
  {
   "attachments": {},
   "cell_type": "markdown",
   "id": "29a05a28",
   "metadata": {},
   "source": [
    "# Homework\n",
    "The goal of this homework is to get familiar with tools like MLflow for experiment tracking and model management."
   ]
  },
  {
   "attachments": {},
   "cell_type": "markdown",
   "id": "efc96aa5",
   "metadata": {},
   "source": [
    "## Q1. Install the package\n",
    "To get started with MLflow you'll need to install the appropriate Python package.  \n",
    "Once you installed the package, run the command mlflow --version and check the output.\n",
    "\n",
    "What's the version that you have?"
   ]
  },
  {
   "cell_type": "code",
   "execution_count": null,
   "id": "0bfedfce",
   "metadata": {},
   "outputs": [],
   "source": [
    "!python -V"
   ]
  },
  {
   "cell_type": "code",
   "execution_count": null,
   "id": "5ccb9874",
   "metadata": {},
   "outputs": [],
   "source": [
    "!mlflow --version"
   ]
  },
  {
   "attachments": {},
   "cell_type": "markdown",
   "id": "a811d800",
   "metadata": {},
   "source": [
    "## Q2. Download and preprocess the data\n",
    "We'll use the Green Taxi Trip Records dataset to predict the amount of tips for each trip.\n",
    "\n",
    "So what's the size of the saved DictVectorizer file?\n",
    "\n",
    "* 54 kB\n",
    "* 154 kB\n",
    "* 54 MB\n",
    "* 154 MB"
   ]
  },
  {
   "cell_type": "code",
   "execution_count": null,
   "id": "37d7cc61",
   "metadata": {},
   "outputs": [],
   "source": [
    "!cd ~/notebooks/data/output && ls -l"
   ]
  },
  {
   "attachments": {},
   "cell_type": "markdown",
   "id": "c1fd97f8",
   "metadata": {},
   "source": [
    "The size of the saved DictVectorizer file is round 154 kB."
   ]
  },
  {
   "attachments": {},
   "cell_type": "markdown",
   "id": "da48f500",
   "metadata": {},
   "source": [
    "## Q3. Train a model with autolog\n",
    "We will train a RandomForestRegressor (from Scikit-Learn) on the taxi dataset.\n",
    "\n",
    "We have prepared the training script train.py.\n",
    "\n",
    "The script will:\n",
    "\n",
    "*load the datasets produced by the previous step,\n",
    "*train the model on the training set,\n",
    "*calculate the RMSE score on the validation set.\n",
    "\n",
    "Your task is to modify the script to enable autologging with MLflow, execute the script and then launch the MLflow UI to check that the experiment run was properly tracked.\n",
    "\n",
    "Tip 1: don't forget to wrap the training code with a with mlflow.start_run(): statement as we showed in the videos.\n",
    "\n",
    "Tip 2: don't modify the hyperparameters of the model to make sure that the training will finish quickly.\n",
    "\n",
    "What is the value of the max_depth parameter:\n",
    "\n",
    "* 4\n",
    "* 6\n",
    "* 8\n",
    "* 10"
   ]
  },
  {
   "cell_type": "code",
   "execution_count": null,
   "id": "bf4f7739",
   "metadata": {},
   "outputs": [],
   "source": [
    "import os\n",
    "import pickle\n",
    "import click\n",
    "\n",
    "import mlflow\n",
    "\n",
    "mlflow.set_tracking_uri(\"sqlite:///~/mlops-zoomcamp/cohorts/2023/02-experiment-tracking/homework/mlflow.db\")\n",
    "mlflow.set_experiment(\"nyc-taxi-experiment-rf\")\n",
    "\n",
    "from sklearn.ensemble import RandomForestRegressor\n",
    "from sklearn.metrics import mean_squared_error\n",
    "\n",
    "\n",
    "def load_pickle(filename: str):\n",
    "    with open(filename, \"rb\") as f_in:\n",
    "        return pickle.load(f_in)\n",
    "\n",
    "\n",
    "@click.command()\n",
    "@click.option(\n",
    "    \"--data_path\",\n",
    "    default=\"/home/ubuntu/notebooks/data/output\",\n",
    "    help=\"Location where the processed NYC taxi trip data was saved\"\n",
    ")\n",
    "def run_train(data_path: str):\n",
    "    with mlflow.start_run():\n",
    "        \n",
    "        mlflow.set_tag(\"developer\", \"t\")\n",
    "        \n",
    "        mlflow.log_param(\"train-data-path\", data_path)\n",
    "        mlflow.log_param(\"valid-data-path\", data_path)\n",
    "\n",
    "        max_depth=10\n",
    "        random_state=0\n",
    "        mlflow.log_param(\"max_depth\", max_depth)\n",
    "        mlflow.log_param(\"random_state\", random_state)\n",
    "        X_train, y_train = load_pickle(os.path.join(data_path, \"train.pkl\"))\n",
    "        X_val, y_val = load_pickle(os.path.join(data_path, \"val.pkl\"))\n",
    "\n",
    "        rf = RandomForestRegressor(max_depth=max_depth, random_state=random_state)\n",
    "        rf.fit(X_train, y_train)\n",
    "        y_pred = rf.predict(X_val)\n",
    "\n",
    "        rmse = mean_squared_error(y_val, y_pred, squared=False)\n",
    "        mlflow.log_metric(\"rmse\", rmse)\n",
    "\n",
    "\n",
    "if __name__ == '__main__':\n",
    "    run_train()\n"
   ]
  },
  {
   "attachments": {},
   "cell_type": "markdown",
   "id": "f9beb8f7",
   "metadata": {},
   "source": [
    "The value of the max_depth parameter is 10."
   ]
  },
  {
   "attachments": {},
   "cell_type": "markdown",
   "id": "0ad4d9ef",
   "metadata": {},
   "source": [
    "## Q4. Tune model hyperparameters\n",
    "\n",
    "What's the best validation RMSE that you got?\n",
    "\n",
    "* 1.85\n",
    "* 2.15\n",
    "* 2.45\n",
    "* 2.85"
   ]
  },
  {
   "cell_type": "code",
   "execution_count": null,
   "id": "f6ec87e7",
   "metadata": {},
   "outputs": [],
   "source": [
    "import os\n",
    "import pickle\n",
    "import click\n",
    "import mlflow\n",
    "import optuna\n",
    "\n",
    "from optuna.samplers import TPESampler\n",
    "from sklearn.ensemble import RandomForestRegressor\n",
    "from sklearn.metrics import mean_squared_error\n",
    "\n",
    "mlflow.set_tracking_uri(\"http://127.0.0.1:5000\")\n",
    "mlflow.set_experiment(\"random-forest-hyperopt\")\n",
    "\n",
    "\n",
    "def load_pickle(filename):\n",
    "    with open(filename, \"rb\") as f_in:\n",
    "        return pickle.load(f_in)\n",
    "\n",
    "\n",
    "@click.command()\n",
    "@click.option(\n",
    "    \"--data_path\",\n",
    "    default=\"/home/ubuntu/notebooks/data/output\",\n",
    "    help=\"Location where the processed NYC taxi trip data was saved\"\n",
    ")\n",
    "@click.option(\n",
    "    \"--num_trials\",\n",
    "    default=10,\n",
    "    help=\"The number of parameter evaluations for the optimizer to explore\"\n",
    ")\n",
    "def run_optimization(data_path: str, num_trials: int):\n",
    "\n",
    "    X_train, y_train = load_pickle(os.path.join(data_path, \"train.pkl\"))\n",
    "    X_val, y_val = load_pickle(os.path.join(data_path, \"val.pkl\"))\n",
    "\n",
    "    def objective(trial):\n",
    "        with mlflow.start_run():\n",
    "            mlflow.set_tag(\"Question4\", \"RandomForestRegressor\")\n",
    "            params = {\n",
    "                'n_estimators': trial.suggest_int('n_estimators', 10, 50, 1),\n",
    "                'max_depth': trial.suggest_int('max_depth', 1, 20, 1),\n",
    "                'min_samples_split': trial.suggest_int('min_samples_split', 2, 10, 1),\n",
    "                'min_samples_leaf': trial.suggest_int('min_samples_leaf', 1, 4, 1),\n",
    "                'random_state': 42,\n",
    "                'n_jobs': -1\n",
    "            }\n",
    "            mlflow.log_params(params)\n",
    "            rf = RandomForestRegressor(**params)\n",
    "            rf.fit(X_train, y_train)\n",
    "            y_pred = rf.predict(X_val)\n",
    "            rmse = mean_squared_error(y_val, y_pred, squared=False)\n",
    "            mlflow.log_metric(\"rmse\", rmse)\n",
    "        return rmse\n",
    "\n",
    "    sampler = TPESampler(seed=42)\n",
    "    study = optuna.create_study(direction=\"minimize\", sampler=sampler)\n",
    "    study.optimize(objective, n_trials=num_trials)\n",
    "\n",
    "\n",
    "if __name__ == '__main__':\n",
    "    run_optimization()\n"
   ]
  },
  {
   "attachments": {},
   "cell_type": "markdown",
   "id": "743ff9ea",
   "metadata": {},
   "source": [
    "The best validation RMSE is 2.45."
   ]
  },
  {
   "attachments": {},
   "cell_type": "markdown",
   "id": "cb8c1d43",
   "metadata": {},
   "source": [
    "## Q5. Promote the best model to the model registry\n",
    "\n",
    "Your task is to update the script register_model.py so that it selects the model with the lowest RMSE on the test set and registers it to the model registry.\n",
    "\n",
    "What is the test RMSE of the best model?\n",
    "\n",
    "* 1.885\n",
    "* 2.185\n",
    "* 2.555\n",
    "* 2.955"
   ]
  },
  {
   "cell_type": "code",
   "execution_count": null,
   "id": "6a4790b7",
   "metadata": {},
   "outputs": [],
   "source": []
  },
  {
   "attachments": {},
   "cell_type": "markdown",
   "id": "59cbb6b7",
   "metadata": {},
   "source": [
    "The RMSE of the best model is ."
   ]
  },
  {
   "attachments": {},
   "cell_type": "markdown",
   "id": "b4ecffa8",
   "metadata": {},
   "source": [
    "## Q6. Model metadata\n",
    "\n",
    "Now explore your best model in the model registry using UI. What information does the model registry contain about each model?\n",
    "\n",
    "* Version number\n",
    "* Source experiment\n",
    "* Model signature\n",
    "* All the above answers are correct"
   ]
  },
  {
   "attachments": {},
   "cell_type": "markdown",
   "id": "3b281262",
   "metadata": {},
   "source": [
    "Answer: All the above answers are correct."
   ]
  }
 ],
 "metadata": {
  "kernelspec": {
   "display_name": "Python 3 (ipykernel)",
   "language": "python",
   "name": "python3"
  },
  "language_info": {
   "codemirror_mode": {
    "name": "ipython",
    "version": 3
   },
   "file_extension": ".py",
   "mimetype": "text/x-python",
   "name": "python",
   "nbconvert_exporter": "python",
   "pygments_lexer": "ipython3",
   "version": "3.10.9"
  }
 },
 "nbformat": 4,
 "nbformat_minor": 5
}
