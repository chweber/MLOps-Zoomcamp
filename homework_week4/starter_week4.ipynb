{
 "cells": [
  {
   "cell_type": "code",
   "execution_count": 21,
   "id": "2c51efaa",
   "metadata": {},
   "outputs": [
    {
     "name": "stdout",
     "output_type": "stream",
     "text": [
      "scikit-learn==1.2.2\r\n"
     ]
    }
   ],
   "source": [
    "!pip freeze | grep scikit-learn"
   ]
  },
  {
   "cell_type": "code",
   "execution_count": 22,
   "id": "0ef880a0",
   "metadata": {},
   "outputs": [],
   "source": [
    "import pickle\n",
    "import pandas as pd\n",
    "import statistics"
   ]
  },
  {
   "cell_type": "code",
   "execution_count": 23,
   "id": "7836ccfd",
   "metadata": {},
   "outputs": [],
   "source": [
    "with open('model.bin', 'rb') as f_in:\n",
    "    dv, model = pickle.load(f_in)"
   ]
  },
  {
   "cell_type": "code",
   "execution_count": 24,
   "id": "41c08294",
   "metadata": {},
   "outputs": [],
   "source": [
    "categorical = ['PULocationID', 'DOLocationID']\n",
    "\n",
    "def read_data(filename):\n",
    "    df = pd.read_parquet(filename)\n",
    "    \n",
    "    df['duration'] = df.tpep_dropoff_datetime - df.tpep_pickup_datetime\n",
    "    df['duration'] = df.duration.dt.total_seconds() / 60\n",
    "\n",
    "    df = df[(df.duration >= 1) & (df.duration <= 60)].copy()\n",
    "\n",
    "    df[categorical] = df[categorical].fillna(-1).astype('int').astype('str')\n",
    "    \n",
    "    return df"
   ]
  },
  {
   "cell_type": "code",
   "execution_count": 25,
   "id": "4854399a",
   "metadata": {},
   "outputs": [],
   "source": [
    "df = read_data('https://d37ci6vzurychx.cloudfront.net/trip-data/yellow_tripdata_2022-02.parquet')"
   ]
  },
  {
   "cell_type": "code",
   "execution_count": 26,
   "id": "669fda0a",
   "metadata": {},
   "outputs": [],
   "source": [
    "dicts = df[categorical].to_dict(orient='records')\n",
    "X_val = dv.transform(dicts)\n",
    "y_pred = model.predict(X_val)"
   ]
  },
  {
   "cell_type": "code",
   "execution_count": 27,
   "id": "a860c478",
   "metadata": {},
   "outputs": [],
   "source": [
    "sd = round(statistics.stdev(y_pred), 2)"
   ]
  },
  {
   "cell_type": "markdown",
   "id": "c5a475b2",
   "metadata": {},
   "source": [
    "## Q1. Notebook\n",
    "What's the standard deviation of the predicted duration for the February 2022 dataset?"
   ]
  },
  {
   "cell_type": "code",
   "execution_count": 28,
   "id": "c6bdcc3c",
   "metadata": {},
   "outputs": [
    {
     "name": "stdout",
     "output_type": "stream",
     "text": [
      "Answer: The standard deviation is 5.28.\n"
     ]
    }
   ],
   "source": [
    "print(f\"Answer: The standard deviation is {sd}.\")"
   ]
  },
  {
   "cell_type": "markdown",
   "id": "9224b7fd",
   "metadata": {},
   "source": [
    "## Q2. Preparing the output\n",
    "What's the size of the output file?"
   ]
  },
  {
   "cell_type": "code",
   "execution_count": 34,
   "id": "a81a0b60",
   "metadata": {},
   "outputs": [],
   "source": [
    "year = 2022\n",
    "month = 2\n",
    "\n",
    "df['ride_id'] = f'{year:04d}/{month:02d}_' + df.index.astype('str')"
   ]
  },
  {
   "cell_type": "code",
   "execution_count": 35,
   "id": "5b72eaa9",
   "metadata": {},
   "outputs": [],
   "source": [
    "df_result = pd.DataFrame()\n",
    "df_result['ride_id'] = df['ride_id']\n",
    "df_result['predicted_duration'] = y_pred\n",
    "\n",
    "output_file = f\"output/ride_prediction_{year:04d}-{month:02d}.parquet\"\n",
    "\n",
    "df_result.to_parquet(\n",
    "    output_file,\n",
    "    engine='pyarrow',\n",
    "    compression=None,\n",
    "    index=False\n",
    ")"
   ]
  },
  {
   "cell_type": "code",
   "execution_count": 37,
   "id": "7f214036",
   "metadata": {},
   "outputs": [
    {
     "name": "stdout",
     "output_type": "stream",
     "text": [
      "total 117184\r\n",
      "-rw-r--r--  1 toph  staff    57M 24 Jun 00:40 ride_prediction_2022-02.parquet\r\n"
     ]
    }
   ],
   "source": [
    "!ls -lh output/"
   ]
  },
  {
   "cell_type": "markdown",
   "id": "df0aaa4b",
   "metadata": {},
   "source": [
    "Answer: The size of the output file is 57M."
   ]
  },
  {
   "cell_type": "markdown",
   "id": "319f449e",
   "metadata": {},
   "source": [
    "## Q3. Creating the scoring script\n",
    "Now let's turn the notebook into a script.  \n",
    "Which command you need to execute for that?"
   ]
  },
  {
   "cell_type": "code",
   "execution_count": 38,
   "id": "44e28c55",
   "metadata": {},
   "outputs": [
    {
     "name": "stdout",
     "output_type": "stream",
     "text": [
      "[NbConvertApp] Converting notebook starter_week4.ipynb to script\n",
      "[NbConvertApp] Writing 1797 bytes to starter_week4.py\n"
     ]
    }
   ],
   "source": [
    "!jupyter nbconvert --to script starter_week4.ipynb"
   ]
  },
  {
   "cell_type": "markdown",
   "id": "6ad533b7",
   "metadata": {},
   "source": [
    "## Q4. Virtual environment\n",
    "What's the first hash for the Scikit-Learn dependency?  \n",
    "  \n",
    "Answer: sha256:065e9673e24e0dc5113e2dd2b4ca30c9d8aa2fa90f4c0597241c93b63130d233"
   ]
  },
  {
   "cell_type": "markdown",
   "id": "b0c65749",
   "metadata": {},
   "source": [
    "## Q5. Parametrize the script\n",
    "Run the script for March 2022.  \n",
    "  \n",
    "What's the mean predicted duration?"
   ]
  },
  {
   "cell_type": "code",
   "execution_count": 40,
   "id": "449cd85c",
   "metadata": {},
   "outputs": [],
   "source": [
    "year = 2022\n",
    "month = 3\n",
    "\n",
    "# input_file = f'https://nyc-tlc.s3.amazonaws.com/trip+data/fhv_tripdata_{year:04d}-{month:02d}.parquet'"
   ]
  },
  {
   "cell_type": "code",
   "execution_count": 45,
   "id": "a6bbfdf4",
   "metadata": {},
   "outputs": [
    {
     "name": "stdout",
     "output_type": "stream",
     "text": [
      "The Answer is 12.76\n"
     ]
    }
   ],
   "source": [
    "df = read_data('../data/yellow_tripdata_2022-03.parquet')\n",
    "dicts = df[categorical].to_dict(orient='records')\n",
    "\n",
    "X_val = dv.transform(dicts)\n",
    "y_pred = model.predict(X_val)\n",
    "res = round(y_pred.mean(),2)\n",
    "\n",
    "print(f\"The Answer is {res}\")"
   ]
  },
  {
   "cell_type": "markdown",
   "id": "7cd0218c",
   "metadata": {},
   "source": [
    "## Q6 Docker container\n",
    "What's the mean predicted duration for April 2022?"
   ]
  },
  {
   "cell_type": "code",
   "execution_count": 51,
   "id": "310bbd67",
   "metadata": {},
   "outputs": [],
   "source": [
    "year = 2022\n",
    "month = 4\n",
    "\n",
    "# input_file = f'https://nyc-tlc.s3.amazonaws.com/trip+data/fhv_tripdata_{year:04d}-{month:02d}.parquet'"
   ]
  },
  {
   "cell_type": "code",
   "execution_count": 52,
   "id": "446eb974",
   "metadata": {},
   "outputs": [
    {
     "name": "stdout",
     "output_type": "stream",
     "text": [
      "The Answer is 12.87\n"
     ]
    }
   ],
   "source": [
    "df = read_data('../data/yellow_tripdata_2022-04.parquet')\n",
    "dicts = df[categorical].to_dict(orient='records')\n",
    "\n",
    "X_val = dv.transform(dicts)\n",
    "y_pred = model.predict(X_val)\n",
    "res = round(y_pred.mean(),2)\n",
    "\n",
    "print(f\"The Answer is {res}\")"
   ]
  },
  {
   "cell_type": "code",
   "execution_count": null,
   "id": "9bc02e2d",
   "metadata": {},
   "outputs": [],
   "source": []
  }
 ],
 "metadata": {
  "kernelspec": {
   "display_name": "Python 3 (ipykernel)",
   "language": "python",
   "name": "python3"
  },
  "language_info": {
   "codemirror_mode": {
    "name": "ipython",
    "version": 3
   },
   "file_extension": ".py",
   "mimetype": "text/x-python",
   "name": "python",
   "nbconvert_exporter": "python",
   "pygments_lexer": "ipython3",
   "version": "3.11.3"
  }
 },
 "nbformat": 4,
 "nbformat_minor": 5
}
