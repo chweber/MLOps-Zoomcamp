{
 "cells": [
  {
   "cell_type": "markdown",
   "id": "4bcfa2e9",
   "metadata": {},
   "source": [
    "# Homework with Weights & Biases\n",
    "\n",
    "The goal of this homework is to get familiar with Weights & Biases for experiment tracking, model management, hyperparameter optimization, and many more."
   ]
  },
  {
   "cell_type": "markdown",
   "id": "e6aeecd3",
   "metadata": {},
   "source": [
    "## Q1. Install the Package\n",
    "\n",
    "Once you installed the package, run the command wandb --version and check the output.  \n",
    "What's the version that you have?"
   ]
  },
  {
   "cell_type": "code",
   "execution_count": 1,
   "id": "c5dc1020",
   "metadata": {},
   "outputs": [
    {
     "name": "stdout",
     "output_type": "stream",
     "text": [
      "wandb, version 0.15.4\r\n"
     ]
    }
   ],
   "source": [
    "!wandb --version"
   ]
  },
  {
   "cell_type": "markdown",
   "id": "c09e8aeb",
   "metadata": {},
   "source": [
    "Answer: The version is: wandb, version 0.15.4"
   ]
  },
  {
   "cell_type": "markdown",
   "id": "5c196ef5",
   "metadata": {},
   "source": [
    "## Q2. Download and preprocess the data\n",
    "We'll use the Green Taxi Trip Records dataset to predict the amount of tips for each trip.  \n",
    "Download the data for January, February and March 2022 in parquet format.  \n",
    "  \n",
    "Once you navigate to the Files tab of your artifact on your Weights & Biases page, what's the size of the saved DictVectorizer file?\n",
    "\n",
    "* 54 kB\n",
    "* 154 kB\n",
    "* 54 MB\n",
    "* 154 MB"
   ]
  },
  {
   "cell_type": "code",
   "execution_count": 3,
   "id": "12872d9a",
   "metadata": {},
   "outputs": [
    {
     "name": "stdout",
     "output_type": "stream",
     "text": [
      "\u001b[34m\u001b[1mwandb\u001b[0m: Currently logged in as: \u001b[33mchweber\u001b[0m. Use \u001b[1m`wandb login --relogin`\u001b[0m to force relogin\n",
      "\u001b[34m\u001b[1mwandb\u001b[0m: Tracking run with wandb version 0.15.4\n",
      "\u001b[34m\u001b[1mwandb\u001b[0m: Run data is saved locally in \u001b[35m\u001b[1m/Users/toph/Documents/Private/GitHub/MLOps-Zoomcamp/wandb/run-20230609_002304-j60xrglx\u001b[0m\n",
      "\u001b[34m\u001b[1mwandb\u001b[0m: Run \u001b[1m`wandb offline`\u001b[0m to turn off syncing.\n",
      "\u001b[34m\u001b[1mwandb\u001b[0m: Syncing run \u001b[33mpeachy-spaceship-2\u001b[0m\n",
      "\u001b[34m\u001b[1mwandb\u001b[0m: ⭐️ View project at \u001b[34m\u001b[4mhttps://wandb.ai/chweber/mlops-wandb_experiment-tracking\u001b[0m\n",
      "\u001b[34m\u001b[1mwandb\u001b[0m: 🚀 View run at \u001b[34m\u001b[4mhttps://wandb.ai/chweber/mlops-wandb_experiment-tracking/runs/j60xrglx\u001b[0m\n",
      "\u001b[34m\u001b[1mwandb\u001b[0m: Adding directory to artifact (./output)... Done. 0.0s\n",
      "\u001b[34m\u001b[1mwandb\u001b[0m: Waiting for W&B process to finish... \u001b[32m(success).\u001b[0m\n",
      "\u001b[34m\u001b[1mwandb\u001b[0m: 🚀 View run \u001b[33mpeachy-spaceship-2\u001b[0m at: \u001b[34m\u001b[4mhttps://wandb.ai/chweber/mlops-wandb_experiment-tracking/runs/j60xrglx\u001b[0m\n",
      "\u001b[34m\u001b[1mwandb\u001b[0m: Synced 6 W&B file(s), 0 media file(s), 0 artifact file(s) and 0 other file(s)\n",
      "\u001b[34m\u001b[1mwandb\u001b[0m: Find logs at: \u001b[35m\u001b[1m./wandb/run-20230609_002304-j60xrglx/logs\u001b[0m\n"
     ]
    }
   ],
   "source": [
    "!python preprocess_data.py \\\n",
    "  --wandb_project mlops-wandb_experiment-tracking \\\n",
    "  --wandb_entity chweber \\\n",
    "  --raw_data_path data/ \\\n",
    "  --dest_path ./output"
   ]
  },
  {
   "cell_type": "code",
   "execution_count": 5,
   "id": "384ec389",
   "metadata": {},
   "outputs": [
    {
     "name": "stdout",
     "output_type": "stream",
     "text": [
      "total 17320\r\n",
      "-rw-r--r--  1 toph  staff   153660  9 Jun 00:23 dv.pkl\r\n",
      "-rw-r--r--  1 toph  staff  2632817  9 Jun 00:23 test.pkl\r\n",
      "-rw-r--r--  1 toph  staff  2146163  9 Jun 00:23 train.pkl\r\n",
      "-rw-r--r--  1 toph  staff  2336393  9 Jun 00:23 val.pkl\r\n"
     ]
    }
   ],
   "source": [
    "!ls -l output/"
   ]
  },
  {
   "cell_type": "markdown",
   "id": "62069a82",
   "metadata": {},
   "source": [
    "Answer: The DictVectorizer file is round 154 kB."
   ]
  },
  {
   "cell_type": "markdown",
   "id": "a34ad55d",
   "metadata": {},
   "source": [
    "## Q3. Train a model with Weights & Biases logging\n",
    "We will train a RandomForestRegressor (from Scikit-Learn) on the taxi dataset.  \n",
    "  \n",
    "Once you have successfully ran the script, navigate the Overview section of the run in the Weights & Biases UI and scroll down to the Configs. What is the value of the max_depth parameter:\n",
    "\n",
    "* 4\n",
    "* 6\n",
    "* 8\n",
    "* 10"
   ]
  },
  {
   "cell_type": "code",
   "execution_count": 7,
   "id": "7a4eb1d4",
   "metadata": {},
   "outputs": [
    {
     "name": "stdout",
     "output_type": "stream",
     "text": [
      "\u001b[34m\u001b[1mwandb\u001b[0m: Currently logged in as: \u001b[33mchweber\u001b[0m. Use \u001b[1m`wandb login --relogin`\u001b[0m to force relogin\n",
      "\u001b[34m\u001b[1mwandb\u001b[0m: Tracking run with wandb version 0.15.4\n",
      "\u001b[34m\u001b[1mwandb\u001b[0m: Run data is saved locally in \u001b[35m\u001b[1m/Users/toph/Documents/Private/GitHub/MLOps-Zoomcamp/wandb/run-20230609_011851-av13eibc\u001b[0m\n",
      "\u001b[34m\u001b[1mwandb\u001b[0m: Run \u001b[1m`wandb offline`\u001b[0m to turn off syncing.\n",
      "\u001b[34m\u001b[1mwandb\u001b[0m: Syncing run \u001b[33mlucky-glitter-4\u001b[0m\n",
      "\u001b[34m\u001b[1mwandb\u001b[0m: ⭐️ View project at \u001b[34m\u001b[4mhttps://wandb.ai/chweber/mlops-wandb_experiment-tracking\u001b[0m\n",
      "\u001b[34m\u001b[1mwandb\u001b[0m: 🚀 View run at \u001b[34m\u001b[4mhttps://wandb.ai/chweber/mlops-wandb_experiment-tracking/runs/av13eibc\u001b[0m\n",
      "\u001b[34m\u001b[1mwandb\u001b[0m:   4 of 4 files downloaded.  \n",
      "\u001b[34m\u001b[1mwandb\u001b[0m: Waiting for W&B process to finish... \u001b[32m(success).\u001b[0m\n",
      "\u001b[34m\u001b[1mwandb\u001b[0m: / 0.007 MB of 0.007 MB uploaded (0.000 MB deduped)\n",
      "\u001b[34m\u001b[1mwandb\u001b[0m: Run history:\n",
      "\u001b[34m\u001b[1mwandb\u001b[0m: MSE ▁\n",
      "\u001b[34m\u001b[1mwandb\u001b[0m: \n",
      "\u001b[34m\u001b[1mwandb\u001b[0m: Run summary:\n",
      "\u001b[34m\u001b[1mwandb\u001b[0m: MSE 2.45398\n",
      "\u001b[34m\u001b[1mwandb\u001b[0m: \n",
      "\u001b[34m\u001b[1mwandb\u001b[0m: 🚀 View run \u001b[33mlucky-glitter-4\u001b[0m at: \u001b[34m\u001b[4mhttps://wandb.ai/chweber/mlops-wandb_experiment-tracking/runs/av13eibc\u001b[0m\n",
      "\u001b[34m\u001b[1mwandb\u001b[0m: Synced 6 W&B file(s), 0 media file(s), 0 artifact file(s) and 0 other file(s)\n",
      "\u001b[34m\u001b[1mwandb\u001b[0m: Find logs at: \u001b[35m\u001b[1m./wandb/run-20230609_011851-av13eibc/logs\u001b[0m\n"
     ]
    }
   ],
   "source": [
    "!python train.py \\\n",
    "  --wandb_project mlops-wandb_experiment-tracking \\\n",
    "  --wandb_entity chweber \\\n",
    "  --data_artifact \"chweber/mlops-wandb_experiment-tracking/NYC-Taxi:v0\""
   ]
  },
  {
   "cell_type": "markdown",
   "id": "bdf20a9b",
   "metadata": {},
   "source": [
    "Answer: The value of the max_depth parameter is 10."
   ]
  },
  {
   "cell_type": "markdown",
   "id": "4a797e45",
   "metadata": {},
   "source": [
    "## Q4. Tune model hyperparameters\n",
    "Now let's try to reduce the validation error by tuning the hyperparameters of the RandomForestRegressor using Weights & Biases Sweeps.  \n",
    "  \n",
    "You can take a look at the sweep on your Weights & Biases dashboard, take a look at the Parameter Inportance Panel and the Parallel Coordinates Plot to determine, and analyze which hyperparameter is the most important:\n",
    "\n",
    "* max_depth\n",
    "* n_estimators\n",
    "* min_samples_split\n",
    "* min_samples_leaf"
   ]
  },
  {
   "cell_type": "code",
   "execution_count": 8,
   "id": "1b6b160a",
   "metadata": {},
   "outputs": [
    {
     "name": "stdout",
     "output_type": "stream",
     "text": [
      "Create sweep with ID: me93ahh7\n",
      "Sweep URL: https://wandb.ai/chweber/mlops-wandb_experiment-tracking/sweeps/me93ahh7\n",
      "\u001b[34m\u001b[1mwandb\u001b[0m: Agent Starting Run: v5dm6vos with config:\n",
      "\u001b[34m\u001b[1mwandb\u001b[0m: \tmax_depth: 20\n",
      "\u001b[34m\u001b[1mwandb\u001b[0m: \tmin_samples_leaf: 4\n",
      "\u001b[34m\u001b[1mwandb\u001b[0m: \tmin_samples_split: 10\n",
      "\u001b[34m\u001b[1mwandb\u001b[0m: \tn_estimators: 50\n",
      "\u001b[34m\u001b[1mwandb\u001b[0m: Currently logged in as: \u001b[33mchweber\u001b[0m. Use \u001b[1m`wandb login --relogin`\u001b[0m to force relogin\n",
      "\u001b[34m\u001b[1mwandb\u001b[0m: Tracking run with wandb version 0.15.4\n",
      "\u001b[34m\u001b[1mwandb\u001b[0m: Run data is saved locally in \u001b[35m\u001b[1m/Users/toph/Documents/Private/GitHub/MLOps-Zoomcamp/wandb/run-20230609_014441-v5dm6vos\u001b[0m\n",
      "\u001b[34m\u001b[1mwandb\u001b[0m: Run \u001b[1m`wandb offline`\u001b[0m to turn off syncing.\n",
      "\u001b[34m\u001b[1mwandb\u001b[0m: Syncing run \u001b[33msnowy-sweep-1\u001b[0m\n",
      "\u001b[34m\u001b[1mwandb\u001b[0m: ⭐️ View project at \u001b[34m\u001b[4mhttps://wandb.ai/chweber/mlops-wandb_experiment-tracking\u001b[0m\n",
      "\u001b[34m\u001b[1mwandb\u001b[0m: 🧹 View sweep at \u001b[34m\u001b[4mhttps://wandb.ai/chweber/mlops-wandb_experiment-tracking/sweeps/me93ahh7\u001b[0m\n",
      "\u001b[34m\u001b[1mwandb\u001b[0m: 🚀 View run at \u001b[34m\u001b[4mhttps://wandb.ai/chweber/mlops-wandb_experiment-tracking/runs/v5dm6vos\u001b[0m\n",
      "\u001b[34m\u001b[1mwandb\u001b[0m:   4 of 4 files downloaded.  \n",
      "\u001b[34m\u001b[1mwandb\u001b[0m: Waiting for W&B process to finish... \u001b[32m(success).\u001b[0m\n",
      "\u001b[34m\u001b[1mwandb\u001b[0m: \n",
      "\u001b[34m\u001b[1mwandb\u001b[0m: Run history:\n",
      "\u001b[34m\u001b[1mwandb\u001b[0m: MSE ▁\n",
      "\u001b[34m\u001b[1mwandb\u001b[0m: \n",
      "\u001b[34m\u001b[1mwandb\u001b[0m: Run summary:\n",
      "\u001b[34m\u001b[1mwandb\u001b[0m: MSE 2.44918\n",
      "\u001b[34m\u001b[1mwandb\u001b[0m: \n",
      "\u001b[34m\u001b[1mwandb\u001b[0m: 🚀 View run \u001b[33msnowy-sweep-1\u001b[0m at: \u001b[34m\u001b[4mhttps://wandb.ai/chweber/mlops-wandb_experiment-tracking/runs/v5dm6vos\u001b[0m\n",
      "\u001b[34m\u001b[1mwandb\u001b[0m: Synced 6 W&B file(s), 0 media file(s), 1 artifact file(s) and 0 other file(s)\n",
      "\u001b[34m\u001b[1mwandb\u001b[0m: Find logs at: \u001b[35m\u001b[1m./wandb/run-20230609_014441-v5dm6vos/logs\u001b[0m\n",
      "\u001b[34m\u001b[1mwandb\u001b[0m: Agent Starting Run: n4mirx2z with config:\n",
      "\u001b[34m\u001b[1mwandb\u001b[0m: \tmax_depth: 19\n",
      "\u001b[34m\u001b[1mwandb\u001b[0m: \tmin_samples_leaf: 4\n",
      "\u001b[34m\u001b[1mwandb\u001b[0m: \tmin_samples_split: 2\n",
      "\u001b[34m\u001b[1mwandb\u001b[0m: \tn_estimators: 13\n",
      "\u001b[34m\u001b[1mwandb\u001b[0m: Tracking run with wandb version 0.15.4\n",
      "\u001b[34m\u001b[1mwandb\u001b[0m: Run data is saved locally in \u001b[35m\u001b[1m/Users/toph/Documents/Private/GitHub/MLOps-Zoomcamp/wandb/run-20230609_014503-n4mirx2z\u001b[0m\n",
      "\u001b[34m\u001b[1mwandb\u001b[0m: Run \u001b[1m`wandb offline`\u001b[0m to turn off syncing.\n",
      "\u001b[34m\u001b[1mwandb\u001b[0m: Syncing run \u001b[33mdivine-sweep-2\u001b[0m\n",
      "\u001b[34m\u001b[1mwandb\u001b[0m: ⭐️ View project at \u001b[34m\u001b[4mhttps://wandb.ai/chweber/mlops-wandb_experiment-tracking\u001b[0m\n",
      "\u001b[34m\u001b[1mwandb\u001b[0m: 🧹 View sweep at \u001b[34m\u001b[4mhttps://wandb.ai/chweber/mlops-wandb_experiment-tracking/sweeps/me93ahh7\u001b[0m\n",
      "\u001b[34m\u001b[1mwandb\u001b[0m: 🚀 View run at \u001b[34m\u001b[4mhttps://wandb.ai/chweber/mlops-wandb_experiment-tracking/runs/n4mirx2z\u001b[0m\n",
      "\u001b[34m\u001b[1mwandb\u001b[0m:   4 of 4 files downloaded.  \n",
      "\u001b[34m\u001b[1mwandb\u001b[0m: Waiting for W&B process to finish... \u001b[32m(success).\u001b[0m\n",
      "\u001b[34m\u001b[1mwandb\u001b[0m: \n",
      "\u001b[34m\u001b[1mwandb\u001b[0m: Run history:\n",
      "\u001b[34m\u001b[1mwandb\u001b[0m: MSE ▁\n",
      "\u001b[34m\u001b[1mwandb\u001b[0m: \n",
      "\u001b[34m\u001b[1mwandb\u001b[0m: Run summary:\n",
      "\u001b[34m\u001b[1mwandb\u001b[0m: MSE 2.45473\n",
      "\u001b[34m\u001b[1mwandb\u001b[0m: \n",
      "\u001b[34m\u001b[1mwandb\u001b[0m: 🚀 View run \u001b[33mdivine-sweep-2\u001b[0m at: \u001b[34m\u001b[4mhttps://wandb.ai/chweber/mlops-wandb_experiment-tracking/runs/n4mirx2z\u001b[0m\n",
      "\u001b[34m\u001b[1mwandb\u001b[0m: Synced 6 W&B file(s), 0 media file(s), 1 artifact file(s) and 0 other file(s)\n",
      "\u001b[34m\u001b[1mwandb\u001b[0m: Find logs at: \u001b[35m\u001b[1m./wandb/run-20230609_014503-n4mirx2z/logs\u001b[0m\n",
      "\u001b[34m\u001b[1mwandb\u001b[0m: Agent Starting Run: ipi96aqw with config:\n",
      "\u001b[34m\u001b[1mwandb\u001b[0m: \tmax_depth: 14\n",
      "\u001b[34m\u001b[1mwandb\u001b[0m: \tmin_samples_leaf: 1\n",
      "\u001b[34m\u001b[1mwandb\u001b[0m: \tmin_samples_split: 6\n",
      "\u001b[34m\u001b[1mwandb\u001b[0m: \tn_estimators: 32\n",
      "\u001b[34m\u001b[1mwandb\u001b[0m: Tracking run with wandb version 0.15.4\n",
      "\u001b[34m\u001b[1mwandb\u001b[0m: Run data is saved locally in \u001b[35m\u001b[1m/Users/toph/Documents/Private/GitHub/MLOps-Zoomcamp/wandb/run-20230609_014519-ipi96aqw\u001b[0m\n",
      "\u001b[34m\u001b[1mwandb\u001b[0m: Run \u001b[1m`wandb offline`\u001b[0m to turn off syncing.\n",
      "\u001b[34m\u001b[1mwandb\u001b[0m: Syncing run \u001b[33mhopeful-sweep-3\u001b[0m\n",
      "\u001b[34m\u001b[1mwandb\u001b[0m: ⭐️ View project at \u001b[34m\u001b[4mhttps://wandb.ai/chweber/mlops-wandb_experiment-tracking\u001b[0m\n",
      "\u001b[34m\u001b[1mwandb\u001b[0m: 🧹 View sweep at \u001b[34m\u001b[4mhttps://wandb.ai/chweber/mlops-wandb_experiment-tracking/sweeps/me93ahh7\u001b[0m\n",
      "\u001b[34m\u001b[1mwandb\u001b[0m: 🚀 View run at \u001b[34m\u001b[4mhttps://wandb.ai/chweber/mlops-wandb_experiment-tracking/runs/ipi96aqw\u001b[0m\n",
      "\u001b[34m\u001b[1mwandb\u001b[0m:   4 of 4 files downloaded.  \n",
      "\u001b[34m\u001b[1mwandb\u001b[0m: Waiting for W&B process to finish... \u001b[32m(success).\u001b[0m\n",
      "\u001b[34m\u001b[1mwandb\u001b[0m: \n",
      "\u001b[34m\u001b[1mwandb\u001b[0m: Run history:\n",
      "\u001b[34m\u001b[1mwandb\u001b[0m: MSE ▁\n",
      "\u001b[34m\u001b[1mwandb\u001b[0m: \n",
      "\u001b[34m\u001b[1mwandb\u001b[0m: Run summary:\n",
      "\u001b[34m\u001b[1mwandb\u001b[0m: MSE 2.46313\n",
      "\u001b[34m\u001b[1mwandb\u001b[0m: \n",
      "\u001b[34m\u001b[1mwandb\u001b[0m: 🚀 View run \u001b[33mhopeful-sweep-3\u001b[0m at: \u001b[34m\u001b[4mhttps://wandb.ai/chweber/mlops-wandb_experiment-tracking/runs/ipi96aqw\u001b[0m\n",
      "\u001b[34m\u001b[1mwandb\u001b[0m: Synced 6 W&B file(s), 0 media file(s), 1 artifact file(s) and 0 other file(s)\n",
      "\u001b[34m\u001b[1mwandb\u001b[0m: Find logs at: \u001b[35m\u001b[1m./wandb/run-20230609_014519-ipi96aqw/logs\u001b[0m\n",
      "\u001b[34m\u001b[1mwandb\u001b[0m: Sweep Agent: Waiting for job.\n",
      "\u001b[34m\u001b[1mwandb\u001b[0m: Job received.\n",
      "\u001b[34m\u001b[1mwandb\u001b[0m: Agent Starting Run: tstc9p46 with config:\n",
      "\u001b[34m\u001b[1mwandb\u001b[0m: \tmax_depth: 16\n",
      "\u001b[34m\u001b[1mwandb\u001b[0m: \tmin_samples_leaf: 4\n",
      "\u001b[34m\u001b[1mwandb\u001b[0m: \tmin_samples_split: 9\n",
      "\u001b[34m\u001b[1mwandb\u001b[0m: \tn_estimators: 26\n",
      "\u001b[34m\u001b[1mwandb\u001b[0m: Tracking run with wandb version 0.15.4\n",
      "\u001b[34m\u001b[1mwandb\u001b[0m: Run data is saved locally in \u001b[35m\u001b[1m/Users/toph/Documents/Private/GitHub/MLOps-Zoomcamp/wandb/run-20230609_014545-tstc9p46\u001b[0m\n",
      "\u001b[34m\u001b[1mwandb\u001b[0m: Run \u001b[1m`wandb offline`\u001b[0m to turn off syncing.\n",
      "\u001b[34m\u001b[1mwandb\u001b[0m: Syncing run \u001b[33mmorning-sweep-4\u001b[0m\n",
      "\u001b[34m\u001b[1mwandb\u001b[0m: ⭐️ View project at \u001b[34m\u001b[4mhttps://wandb.ai/chweber/mlops-wandb_experiment-tracking\u001b[0m\n",
      "\u001b[34m\u001b[1mwandb\u001b[0m: 🧹 View sweep at \u001b[34m\u001b[4mhttps://wandb.ai/chweber/mlops-wandb_experiment-tracking/sweeps/me93ahh7\u001b[0m\n",
      "\u001b[34m\u001b[1mwandb\u001b[0m: 🚀 View run at \u001b[34m\u001b[4mhttps://wandb.ai/chweber/mlops-wandb_experiment-tracking/runs/tstc9p46\u001b[0m\n",
      "\u001b[34m\u001b[1mwandb\u001b[0m:   4 of 4 files downloaded.  \n",
      "\u001b[34m\u001b[1mwandb\u001b[0m: Waiting for W&B process to finish... \u001b[32m(success).\u001b[0m\n",
      "\u001b[34m\u001b[1mwandb\u001b[0m: \n",
      "\u001b[34m\u001b[1mwandb\u001b[0m: Run history:\n",
      "\u001b[34m\u001b[1mwandb\u001b[0m: MSE ▁\n",
      "\u001b[34m\u001b[1mwandb\u001b[0m: \n",
      "\u001b[34m\u001b[1mwandb\u001b[0m: Run summary:\n",
      "\u001b[34m\u001b[1mwandb\u001b[0m: MSE 2.45064\n",
      "\u001b[34m\u001b[1mwandb\u001b[0m: \n",
      "\u001b[34m\u001b[1mwandb\u001b[0m: 🚀 View run \u001b[33mmorning-sweep-4\u001b[0m at: \u001b[34m\u001b[4mhttps://wandb.ai/chweber/mlops-wandb_experiment-tracking/runs/tstc9p46\u001b[0m\n",
      "\u001b[34m\u001b[1mwandb\u001b[0m: Synced 6 W&B file(s), 0 media file(s), 1 artifact file(s) and 0 other file(s)\n",
      "\u001b[34m\u001b[1mwandb\u001b[0m: Find logs at: \u001b[35m\u001b[1m./wandb/run-20230609_014545-tstc9p46/logs\u001b[0m\n",
      "\u001b[34m\u001b[1mwandb\u001b[0m: Sweep Agent: Waiting for job.\n",
      "\u001b[34m\u001b[1mwandb\u001b[0m: Job received.\n",
      "\u001b[34m\u001b[1mwandb\u001b[0m: Agent Starting Run: zbmxfv32 with config:\n",
      "\u001b[34m\u001b[1mwandb\u001b[0m: \tmax_depth: 16\n",
      "\u001b[34m\u001b[1mwandb\u001b[0m: \tmin_samples_leaf: 4\n",
      "\u001b[34m\u001b[1mwandb\u001b[0m: \tmin_samples_split: 10\n",
      "\u001b[34m\u001b[1mwandb\u001b[0m: \tn_estimators: 44\n",
      "\u001b[34m\u001b[1mwandb\u001b[0m: Tracking run with wandb version 0.15.4\n",
      "\u001b[34m\u001b[1mwandb\u001b[0m: Run data is saved locally in \u001b[35m\u001b[1m/Users/toph/Documents/Private/GitHub/MLOps-Zoomcamp/wandb/run-20230609_014611-zbmxfv32\u001b[0m\n",
      "\u001b[34m\u001b[1mwandb\u001b[0m: Run \u001b[1m`wandb offline`\u001b[0m to turn off syncing.\n",
      "\u001b[34m\u001b[1mwandb\u001b[0m: Syncing run \u001b[33mproud-sweep-5\u001b[0m\n",
      "\u001b[34m\u001b[1mwandb\u001b[0m: ⭐️ View project at \u001b[34m\u001b[4mhttps://wandb.ai/chweber/mlops-wandb_experiment-tracking\u001b[0m\n",
      "\u001b[34m\u001b[1mwandb\u001b[0m: 🧹 View sweep at \u001b[34m\u001b[4mhttps://wandb.ai/chweber/mlops-wandb_experiment-tracking/sweeps/me93ahh7\u001b[0m\n",
      "\u001b[34m\u001b[1mwandb\u001b[0m: 🚀 View run at \u001b[34m\u001b[4mhttps://wandb.ai/chweber/mlops-wandb_experiment-tracking/runs/zbmxfv32\u001b[0m\n",
      "\u001b[34m\u001b[1mwandb\u001b[0m:   4 of 4 files downloaded.  \n",
      "\u001b[34m\u001b[1mwandb\u001b[0m: Waiting for W&B process to finish... \u001b[32m(success).\u001b[0m\n",
      "\u001b[34m\u001b[1mwandb\u001b[0m: \n",
      "\u001b[34m\u001b[1mwandb\u001b[0m: Run history:\n",
      "\u001b[34m\u001b[1mwandb\u001b[0m: MSE ▁\n",
      "\u001b[34m\u001b[1mwandb\u001b[0m: \n",
      "\u001b[34m\u001b[1mwandb\u001b[0m: Run summary:\n",
      "\u001b[34m\u001b[1mwandb\u001b[0m: MSE 2.44818\n",
      "\u001b[34m\u001b[1mwandb\u001b[0m: \n",
      "\u001b[34m\u001b[1mwandb\u001b[0m: 🚀 View run \u001b[33mproud-sweep-5\u001b[0m at: \u001b[34m\u001b[4mhttps://wandb.ai/chweber/mlops-wandb_experiment-tracking/runs/zbmxfv32\u001b[0m\n",
      "\u001b[34m\u001b[1mwandb\u001b[0m: Synced 6 W&B file(s), 0 media file(s), 1 artifact file(s) and 0 other file(s)\n",
      "\u001b[34m\u001b[1mwandb\u001b[0m: Find logs at: \u001b[35m\u001b[1m./wandb/run-20230609_014611-zbmxfv32/logs\u001b[0m\n"
     ]
    }
   ],
   "source": [
    "!python sweep.py \\\n",
    "  --wandb_project mlops-wandb_experiment-tracking \\\n",
    "  --wandb_entity chweber \\\n",
    "  --data_artifact \"chweber/mlops-wandb_experiment-tracking/NYC-Taxi:v0\""
   ]
  },
  {
   "cell_type": "markdown",
   "id": "74a2c1e2",
   "metadata": {},
   "source": [
    "Answer: The most important hyperparameter is **max_depth**\n",
    "."
   ]
  },
  {
   "cell_type": "markdown",
   "id": "5ccbe447",
   "metadata": {},
   "source": [
    "## Q5. Link the best model to the model registry\n",
    "\n",
    "Now that we have obtained the optimal set of hyperparameters and trained the best model, we can assume that we are ready to test some of these models in production. In this exercise, you'll create a model registry and link the best model from the Sweep to the model registry.  \n",
    "\n",
    "Now that the model artifact is linked to the Registered Model, which of these information do we see on the Registered Model UI?\n",
    "\n",
    "* Versioning\n",
    "* Metadata\n",
    "* Aliases\n",
    "* Metric (MSE)\n",
    "* Source run\n",
    "* All of these\n",
    "* None of these"
   ]
  },
  {
   "cell_type": "markdown",
   "id": "d4296ec5",
   "metadata": {},
   "source": [
    "Answer: On the Registered Model UI we see 1) Versioning, 2) Aliases, 3) Metric (MSE), 4) Source run.  \n",
    "Metadata can be accessed over ***View version details*** and the ***Metadata tab***."
   ]
  },
  {
   "cell_type": "code",
   "execution_count": null,
   "id": "da697c46",
   "metadata": {},
   "outputs": [],
   "source": []
  }
 ],
 "metadata": {
  "kernelspec": {
   "display_name": "Python 3 (ipykernel)",
   "language": "python",
   "name": "python3"
  },
  "language_info": {
   "codemirror_mode": {
    "name": "ipython",
    "version": 3
   },
   "file_extension": ".py",
   "mimetype": "text/x-python",
   "name": "python",
   "nbconvert_exporter": "python",
   "pygments_lexer": "ipython3",
   "version": "3.11.3"
  }
 },
 "nbformat": 4,
 "nbformat_minor": 5
}
